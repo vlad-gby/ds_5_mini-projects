{
 "cells": [
  {
   "cell_type": "markdown",
   "id": "e00376dc",
   "metadata": {},
   "source": [
    "A/B Test Significance Analysis\n",
    "Scenario: A company ran an A/B test on their website to see if changing a button color (group B) increased the conversion rate compared to the old color (group A).\n",
    "\n",
    "Your Task: Determine if the observed difference in conversion rates between group A and group B is statistically significant. You will do this by performing a permutation test:\n",
    "\n",
    "Calculate the real difference in conversion rates between group A and B.\n",
    "\n",
    "Combine the results of both groups into a single pool.\n",
    "\n",
    "Repeatedly (e.g., 10,000 times) shuffle this pool and randomly re-assign users to a new \"fake A\" and \"fake B\" group of the same sizes.\n",
    "\n",
    "Calculate the difference in conversion rates for each of these simulated permutations.\n",
    "\n",
    "The p-value is the proportion of times the simulated difference was as extreme or more extreme than the real difference you observed in step 1."
   ]
  },
  {
   "cell_type": "code",
   "execution_count": null,
   "id": "9bbef76d",
   "metadata": {},
   "outputs": [
    {
     "name": "stdout",
     "output_type": "stream",
     "text": [
      "0.0003\n"
     ]
    }
   ],
   "source": [
    "import numpy as np\n",
    "import pandas as pd\n",
    "\n",
    "rng = np.random.default_rng(seed=1234)\n",
    "\n",
    "# Create random A/B data\n",
    "data = pd.DataFrame(columns=['user_id', 'group', 'converted'])\n",
    "data['user_id'] = rng.choice(range(10_000), size=5_000)\n",
    "data['group'] = rng.choice(['A', 'B'], size= 5_000)\n",
    "# Create converted datapoints, ensuring that B has more chance to convert over A (2/5 > 1/3)\n",
    "data['converted'] = np.where(data['group'] == 'B', rng.choice([1, 1, 0, 0, 0], size=5000), rng.choice([1, 0, 0], size=5000))\n",
    "# Find the difference between A&B. This is our synthetic benchmark\n",
    "difference = data.loc[data['group'] == 'B', 'converted'].sum() - data[data['group'] == 'A'].loc[:, 'converted'].sum()\n",
    "\n",
    "# In the for-loop we'll shuffle the data and find the difference in A vs B, and record it in shuffle_diff, in order to calculate the p_value later\n",
    "shuffle_diff = []\n",
    "for i in range(10_000):\n",
    "    # Get shuffle data for the iteration\n",
    "    shuffle_group = rng.permutation(np.array(data['group']))\n",
    "    shuffle_conv = data['converted']\n",
    "    # Record the difference between random A and B results\n",
    "    As = shuffle_conv[shuffle_group == 'A'].sum()\n",
    "    Bs = shuffle_conv[shuffle_group == 'B'].sum()\n",
    "    shuffle_diff.append(Bs - As)\n",
    "\n",
    "# Find the p_value, as a number of random cases that are more significant than our initial difference - over the number or records\n",
    "p_value = (np.abs(np.array(shuffle_diff)) >= np.abs(difference)).sum() / len(shuffle_diff)\n",
    "\n",
    "print(p_value)"
   ]
  },
  {
   "cell_type": "markdown",
   "id": "166e04bc",
   "metadata": {},
   "source": [
    "In most business cases, if the result is higher than 5% (0.05) - the finding can be treated statistically significant, and version B is preferable\n",
    "In our case it's much lower than that, on my machine it's 0.003 (0.3%), meaning that our synthetic ratio (2/5 > 1/3) is more than valid"
   ]
  }
 ],
 "metadata": {
  "kernelspec": {
   "display_name": "data_book",
   "language": "python",
   "name": "python3"
  },
  "language_info": {
   "codemirror_mode": {
    "name": "ipython",
    "version": 3
   },
   "file_extension": ".py",
   "mimetype": "text/x-python",
   "name": "python",
   "nbconvert_exporter": "python",
   "pygments_lexer": "ipython3",
   "version": "3.13.4"
  }
 },
 "nbformat": 4,
 "nbformat_minor": 5
}
