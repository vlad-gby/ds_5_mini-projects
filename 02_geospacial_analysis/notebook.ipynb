{
  "cells": [
    {
      "cell_type": "markdown",
      "id": "a63591f1",
      "metadata": {
        "id": "a63591f1"
      },
      "source": [
        "Geospatial Analysis - Finding the Closest Warehouse\n",
        "Scenario: A logistics company has a list of their retail stores and a separate list of their distribution warehouses. They need to determine the closest warehouse for each store.\n",
        "\n",
        "Your Task: For each store, calculate the distance to every warehouse and then determine which warehouse is the closest. The final DataFrame should be the original stores table with two new columns: closest_warehouse_id and distance_km. You will need to implement the Haversine formula to calculate the distance between two lat/long points on a sphere. This is a perfect task for a custom NumPy function."
      ]
    },
    {
      "cell_type": "code",
      "execution_count": 1,
      "id": "09764751",
      "metadata": {
        "id": "09764751",
        "outputId": "1206c7e9-fa7b-4614-b941-96ffb731e1da",
        "colab": {
          "base_uri": "https://localhost:8080/"
        }
      },
      "outputs": [
        {
          "output_type": "stream",
          "name": "stdout",
          "text": [
            "  store_id  store_lat  store_lon warehouse_id        dist\n",
            "0       S1    45.4642     9.1900           W1   12.379630\n",
            "1       S2    41.9028    12.4964           W2  241.805063\n",
            "2       S3    43.7696    11.2558           W2   10.900462\n"
          ]
        }
      ],
      "source": [
        "import numpy as np\n",
        "import pandas as pd\n",
        "\n",
        "stores = pd.read_csv('https://raw.githubusercontent.com/vlad-gby/ds_5_mini-projects/refs/heads/main/02_geospacial_analysis/stores.csv')\n",
        "warehouses = pd.read_csv('https://raw.githubusercontent.com/vlad-gby/ds_5_mini-projects/refs/heads/main/02_geospacial_analysis/warehouses.csv')\n",
        "\n",
        "def calc_dist(combinations):\n",
        "    lat1 = np.radians(combinations['store_lat'])\n",
        "    long1 = np.radians(combinations['store_lon'])\n",
        "    lat2 = np.radians(combinations['wh_lat'])\n",
        "    long2 = np.radians(combinations['wh_lon'])\n",
        "\n",
        "    radius = 6_371\n",
        "    lat_diff = lat2 - lat1\n",
        "    long_diff = long2 - long1\n",
        "\n",
        "    # Harversine formula\n",
        "#   a = sin²(Δlat/2) + cos(lat1) * cos(lat2) * sin²(Δlon/2)\n",
        "#   c = 2 * atan2(√a, √(1−a))\n",
        "#   d = R * c\n",
        "\n",
        "    a = np.sin(lat_diff/2)**2 + np.cos(lat1) * np.cos(lat2) * np.sin(long_diff/2)**2\n",
        "    c = 2 * np.arctan2(np.sqrt(a), np.sqrt(1 - a))\n",
        "    d = radius * c\n",
        "\n",
        "    return d\n",
        "\n",
        " # Get all combinations\n",
        "combinations = stores.merge(warehouses, how='cross')\n",
        "combinations['dist'] = calc_dist(combinations)\n",
        "# Take best warehouse for each store\n",
        "best_dist = combinations.loc[combinations.groupby('store_id')['dist'].idxmin()].reset_index().loc[:, ['store_id', 'warehouse_id', 'dist']]\n",
        "# Paste the result into an original data\n",
        "stores = stores.merge(best_dist, on='store_id')\n",
        "\n",
        "print(stores)"
      ]
    },
    {
      "cell_type": "markdown",
      "id": "70443119",
      "metadata": {
        "id": "70443119"
      },
      "source": [
        "The analysis was successful in solving a critical logistics problem: identifying the optimal warehouse for each retail store.\n",
        "\n",
        "By implementing the Haversine formula in a vectorized NumPy function, it was possible to accurately calculate the great-circle distance between every store and every potential warehouse. The use of a cross merge in Pandas allowed for the efficient creation of all possible pairings, and a combination of .groupby() and .idxmin() made it possible to isolate the single best warehouse for each store based on minimum distance."
      ]
    }
  ],
  "metadata": {
    "kernelspec": {
      "display_name": "data_book",
      "language": "python",
      "name": "python3"
    },
    "language_info": {
      "codemirror_mode": {
        "name": "ipython",
        "version": 3
      },
      "file_extension": ".py",
      "mimetype": "text/x-python",
      "name": "python",
      "nbconvert_exporter": "python",
      "pygments_lexer": "ipython3",
      "version": "3.13.4"
    },
    "colab": {
      "provenance": []
    }
  },
  "nbformat": 4,
  "nbformat_minor": 5
}