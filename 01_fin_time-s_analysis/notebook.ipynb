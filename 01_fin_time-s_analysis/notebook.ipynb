{
 "cells": [
  {
   "cell_type": "markdown",
   "id": "ea9095a8",
   "metadata": {},
   "source": [
    "Financial Time-Series Analysis\n",
    "Scenario: You are a quantitative analyst given a CSV file with daily stock price data for a tech company.\n",
    "\n",
    "Your Task: Your objective is to perform a basic financial analysis. You must load the data, calculate the daily price change (return), and then compute the 30-day rolling volatility of those returns. Finally, identify \"high volume\" trading days, defined as days where the trading volume was more than 1.5 standard deviations above the average volume. The final DataFrame should contain the original data plus new columns for daily_return, 30-day_volatility, and a boolean is_high_volume flag."
   ]
  },
  {
   "cell_type": "code",
   "execution_count": null,
   "id": "d720d393",
   "metadata": {},
   "outputs": [
    {
     "name": "stdout",
     "output_type": "stream",
     "text": [
      "<class 'pandas.core.frame.DataFrame'>\n",
      "DatetimeIndex: 546 entries, 2024-01-02 to 2025-06-30\n",
      "Data columns (total 5 columns):\n",
      " #   Column  Non-Null Count  Dtype  \n",
      "---  ------  --------------  -----  \n",
      " 0   open    546 non-null    float64\n",
      " 1   high    546 non-null    float64\n",
      " 2   low     546 non-null    float64\n",
      " 3   close   546 non-null    float64\n",
      " 4   volume  546 non-null    int64  \n",
      "dtypes: float64(4), int64(1)\n",
      "memory usage: 25.6 KB\n",
      "None\n",
      "              open    high     low  close    volume\n",
      "date                                               \n",
      "2025-06-21  157.75  158.25  156.50  157.0  24000000\n",
      "2025-06-22  156.75  158.00  156.00  157.5  26000000\n",
      "2025-06-23  157.25  158.75  156.75  158.0  30000000\n",
      "2025-06-24  157.75  158.25  156.50  157.0  28000000\n",
      "2025-06-25  156.75  158.00  156.00  157.5  27000000\n",
      "2025-06-26  157.25  158.75  156.75  158.0  30000000\n",
      "2025-06-27  157.75  158.25  156.50  157.0  24000000\n",
      "2025-06-28  156.75  158.00  156.00  157.5  26000000\n",
      "2025-06-29  157.25  158.75  156.75  158.0  30000000\n",
      "2025-06-30  157.75  158.25  156.50  157.0  28000000\n"
     ]
    }
   ],
   "source": [
    "import numpy as np\n",
    "import pandas as pd\n",
    "\n",
    "stock_data = pd.read_csv('stock_data.csv')\n",
    "# Normalize the column names, convert to daytime type and set as index\n",
    "stock_data.columns = stock_data.columns.str.lower().str.replace(' ', '_')\n",
    "stock_data['date'] = pd.to_datetime(stock_data['date'])\n",
    "stock_data = stock_data.set_index('date')\n",
    "\n",
    "print(stock_data.info())"
   ]
  },
  {
   "cell_type": "markdown",
   "id": "999e8fe0",
   "metadata": {},
   "source": [
    "Daily return is closing price - previous closing price over the previous closing price (to get the %)"
   ]
  },
  {
   "cell_type": "code",
   "execution_count": 23,
   "id": "50d0a5b7",
   "metadata": {},
   "outputs": [
    {
     "name": "stdout",
     "output_type": "stream",
     "text": [
      "date\n",
      "2024-01-02         NaN\n",
      "2024-01-03    0.008237\n",
      "2024-01-04   -0.003268\n",
      "2024-01-05   -0.016393\n",
      "2024-01-06    0.010000\n",
      "2024-01-07    0.021452\n",
      "2024-01-08    0.008078\n",
      "2024-01-09   -0.004808\n",
      "2024-01-10    0.001610\n",
      "2024-01-11    0.008039\n",
      "Name: daily_return, dtype: float64\n"
     ]
    }
   ],
   "source": [
    "stock_data['daily_return'] = (stock_data['close'] - stock_data['close'].shift(1)) / stock_data['close'].shift(1)\n",
    "print(stock_data['daily_return'][:10])"
   ]
  },
  {
   "cell_type": "markdown",
   "id": "329bbd74",
   "metadata": {},
   "source": [
    "Calculate the standard deviation of previous 30 days' returns, how volatile the price was. (first 29 entries can't have a value, as they don't have full 30 days that preceed them)"
   ]
  },
  {
   "cell_type": "code",
   "execution_count": 24,
   "id": "a4e7e673",
   "metadata": {},
   "outputs": [
    {
     "name": "stdout",
     "output_type": "stream",
     "text": [
      "date\n",
      "2025-04-15    0.004559\n",
      "2024-01-13         NaN\n",
      "2024-12-01    0.004559\n",
      "2024-02-11    0.004548\n",
      "2024-03-19    0.004559\n",
      "2025-03-12    0.004559\n",
      "2024-04-17    0.004559\n",
      "2024-10-26    0.004559\n",
      "2025-03-27    0.004559\n",
      "2024-11-13    0.004559\n",
      "Name: 30_day_volatility, dtype: float64\n"
     ]
    }
   ],
   "source": [
    "stock_data['30_day_volatility'] = stock_data['daily_return'].rolling(30).std()\n",
    "print(stock_data['30_day_volatility'].sample(10))"
   ]
  },
  {
   "cell_type": "markdown",
   "id": "00713c91",
   "metadata": {},
   "source": [
    "Define days with big stock volume"
   ]
  },
  {
   "cell_type": "code",
   "execution_count": null,
   "id": "140f3ca2",
   "metadata": {},
   "outputs": [
    {
     "name": "stdout",
     "output_type": "stream",
     "text": [
      "Volume records for high-volume days: \n",
      "date\n",
      "2024-01-05    31000000\n",
      "2024-01-07    35000000\n",
      "2024-01-08    33000000\n",
      "2024-01-14    32000000\n",
      "2024-01-18    31000000\n",
      "Name: volume, dtype: int64\n",
      "Mean volume is:  27523809.523809522  And max volume is:  35000000\n"
     ]
    }
   ],
   "source": [
    "stock_data['is_high_volume'] = (stock_data['volume'] - stock_data['volume'].mean()) > stock_data['volume'].std() * 1.5\n",
    "print('Volume records for high-volume days: ')\n",
    "print(stock_data.loc[stock_data['is_high_volume'], 'volume'])\n",
    "print('Mean volume is: ', stock_data['volume'].mean(), ' And max volume is: ', stock_data['volume'].max())"
   ]
  },
  {
   "cell_type": "markdown",
   "id": "f5f49a4f",
   "metadata": {},
   "source": [
    "Conclusion: The analysis was successful. The final DataFrame now includes the calculated daily returns, 30-day volatility, and a boolean flag identifying high-volume trading days, providing key metrics for further financial modeling."
   ]
  }
 ],
 "metadata": {
  "kernelspec": {
   "display_name": "data_book",
   "language": "python",
   "name": "python3"
  },
  "language_info": {
   "codemirror_mode": {
    "name": "ipython",
    "version": 3
   },
   "file_extension": ".py",
   "mimetype": "text/x-python",
   "name": "python",
   "nbconvert_exporter": "python",
   "pygments_lexer": "ipython3",
   "version": "3.13.4"
  }
 },
 "nbformat": 4,
 "nbformat_minor": 5
}
