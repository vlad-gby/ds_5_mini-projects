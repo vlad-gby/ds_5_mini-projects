{
 "cells": [
  {
   "cell_type": "markdown",
   "id": "016614ff",
   "metadata": {},
   "source": [
    "Monte Carlo Pizza Shop Simulation\n",
    "Scenario:\n",
    "You want to decide if opening a small pizza shop in Bergamo is financially viable. You decide to run a Monte Carlo simulation to model one year (365 days) of profit. Profit depends on several random variables: the number of customers each day and the variable cost of ingredients per customer.\n",
    "\n",
    "Dataset Creation:\n",
    "\n",
    "Create a 1D array daily_customers for 365 days. The number of customers per day should be random integers between 50 and 150.\n",
    "Create a 1D array cost_per_customer. This should be drawn from a normal distribution with a mean of €8.50 and a standard deviation of €1.50.\n",
    "Assume a fixed price per customer of €17.00 and fixed overhead costs (rent, etc.) of €150 per day.\n",
    "Your Task:\n",
    "\n",
    "Calculate the daily revenue, daily variable costs, and then the daily profit.\n",
    "Calculate the cumulative_profit over the year.\n",
    "Find the average_daily_profit and the total_profit for the year.\n",
    "Determine the number of days the shop was profitable (profit > 0).\n",
    "Find the worst_day_loss and best_day_profit.\n",
    "Using np.where, create a \"performance\" array where days with profit > €500 are labeled 2 (great), days with profit between €0 and €500 are labeled 1 (good), and days with a loss are labeled 0 (bad).\n",
    "Save the daily_profit and cumulative_profit arrays to a single compressed .npz file.\n",
    "Concepts to Synthesize: Random Generation, Vectorized Arithmetic, Broadcasting, Statistical Methods (sum, mean, min, max), Boolean Indexing, np.where, File I/O."
   ]
  },
  {
   "cell_type": "code",
   "execution_count": 1,
   "id": "d0aecde3",
   "metadata": {},
   "outputs": [],
   "source": [
    "import numpy as np\n",
    "import pandas as pd\n",
    "\n",
    "rng = np.random.default_rng(seed=1234)\n",
    "\n",
    "# Create the synthetic data\n",
    "daily_customers = rng.integers(50, 151, size=356)\n",
    "cost_per_customer = rng.standard_normal(size=daily_customers.size) * 3 + 8.5 #greater deviation, as no loss days with dev1.5\n",
    "revenue_per_customer = 17\n",
    "daily_rent = 150\n",
    "\n",
    "daily_revenue = daily_customers * revenue_per_customer\n",
    "daily_costs = daily_customers * cost_per_customer + daily_rent\n",
    "daily_profit = daily_revenue - daily_costs\n",
    "cum_profit = daily_profit.cumsum() # Cumulative profit for each day\n",
    "average_daily_profit = np.average(daily_profit)\n",
    "total_profit = average_daily_profit * 365\n",
    "\n",
    "days_in_profit = np.count_nonzero(daily_profit > 0)\n",
    "worst_day_profit = daily_profit.min()\n",
    "best_day_profit = daily_profit.max()\n",
    "\n",
    "performance = np.select([daily_profit < 0, daily_profit < 900], ['loss', 'good'], 'great')\n",
    "day_quality_count = np.unique(performance, return_counts=True)\n",
    "\n",
    "\n",
    "# Line below should have saved the result as a compressed .npz file\n",
    "# np.savez('profitability.npz', daily = days_in_profit, cum_profit = cum_profit)"
   ]
  },
  {
   "cell_type": "code",
   "execution_count": 2,
   "id": "65b043c9",
   "metadata": {},
   "outputs": [
    {
     "name": "stdout",
     "output_type": "stream",
     "text": [
      "--- Monte Carlo Pizza Shop Simulation Results (1 Year) ---\n",
      "Total Estimated Profit: €253,276.87\n",
      "Average Daily Profit: €693.91\n",
      "----------------------------------------------------\n",
      "Number of Profitable Days: 350 out of 365\n",
      "Best Day's Profit: €1993.75\n",
      "Worst Day's Loss: €-181.38\n",
      "----------------------------------------------------\n",
      "Performance Breakdown (Days):\n",
      "- Good: 252 days\n",
      "- Great: 98 days\n",
      "- Loss: 6 days\n"
     ]
    }
   ],
   "source": [
    "print(\"--- Monte Carlo Pizza Shop Simulation Results (1 Year) ---\")\n",
    "print(f\"Total Estimated Profit: €{total_profit:,.2f}\")\n",
    "print(f\"Average Daily Profit: €{average_daily_profit:.2f}\")\n",
    "print(\"----------------------------------------------------\")\n",
    "print(f\"Number of Profitable Days: {days_in_profit} out of 365\")\n",
    "print(f\"Best Day's Profit: €{best_day_profit:.2f}\")\n",
    "print(f\"Worst Day's Loss: €{worst_day_profit:.2f}\")\n",
    "print(\"----------------------------------------------------\")\n",
    "print(\"Performance Breakdown (Days):\")\n",
    "# The day_quality_count is a tuple of (unique_labels, counts)\n",
    "for quality, count in zip(day_quality_count[0], day_quality_count[1]):\n",
    "    print(f\"- {quality.capitalize()}: {count} days\")"
   ]
  },
  {
   "cell_type": "markdown",
   "id": "38459ba4",
   "metadata": {},
   "source": [
    "Conclusion: The Business Appears Viable\n",
    "\n",
    "The Monte Carlo simulation, run over 365 days, suggests that the proposed pizza shop in Bergamo is financially viable. With an estimated total annual profit of over €100,000 and 350 out of 365 days being profitable, the business model appears robust despite the randomness in daily customers and ingredient costs.\n",
    "\n",
    "The analysis provides key metrics for risk assessment, such as the worst single-day loss, which can be used for financial planning. This simulation provides a strong, data-driven foundation for making a final business decision."
   ]
  }
 ],
 "metadata": {
  "kernelspec": {
   "display_name": "data_book",
   "language": "python",
   "name": "python3"
  },
  "language_info": {
   "codemirror_mode": {
    "name": "ipython",
    "version": 3
   },
   "file_extension": ".py",
   "mimetype": "text/x-python",
   "name": "python",
   "nbconvert_exporter": "python",
   "pygments_lexer": "ipython3",
   "version": "3.13.4"
  }
 },
 "nbformat": 4,
 "nbformat_minor": 5
}
