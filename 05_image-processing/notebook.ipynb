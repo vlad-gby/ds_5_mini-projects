{
 "cells": [
  {
   "cell_type": "markdown",
   "id": "0df9061d",
   "metadata": {},
   "source": [
    "Image Batch Processing Simulation\n",
    "Scenario: You are working with a dataset of image metadata. Before feeding them into a machine learning model, you need to simulate loading each image based on its specified resolution and then normalize it.\n",
    "\n",
    "Your Task:\n",
    "\n",
    "Load the metadata DataFrame.\n",
    "\n",
    "Write a function that takes a resolution string (e.g., '128x128') as input, parses it to get the height and width, and then creates a random NumPy array of that specific size.\n",
    "\n",
    "Use the .apply() method to run this function on your resolution column, creating a new image_array column. Each element in this new column should be a NumPy array with the correct dimensions from the resolution column.\n",
    "\n",
    "Write a second function to normalize an image array and use .apply() again on your new image_array column to create a final normalized_array column."
   ]
  },
  {
   "cell_type": "code",
   "execution_count": 1,
   "id": "e3ca34f9",
   "metadata": {},
   "outputs": [
    {
     "name": "stdout",
     "output_type": "stream",
     "text": [
      "0    [[[-0.8551341632910463, 1.591122467167661, -1....\n",
      "1    [[[-0.16976850816399625, -0.6165526248967987, ...\n",
      "2    [[[-0.8888082591105001, 0.42430563301726, -1.5...\n",
      "3    [[[0.1410415480284149, 1.4540779190106174, -0....\n",
      "dtype: object\n"
     ]
    }
   ],
   "source": [
    "import numpy as np\n",
    "import pandas as pd\n",
    "\n",
    "image_metadata = {\n",
    "    'image_id': ['img_001', 'img_002', 'img_003', 'img_004'],\n",
    "    'label': ['cat', 'dog', 'cat', 'bird'],\n",
    "    'resolution': ['128x128', '256x256', '128x128', '512x512']\n",
    "}\n",
    "\n",
    "metadata = pd.DataFrame(image_metadata)\n",
    "# Get the dimentions by splitting each string by the \"x\" character\n",
    "dimentions = pd.DataFrame(list(metadata['resolution'].str.split('x'))).astype(int)\n",
    "# Create mock images with noise inside by populating the dimentions provided \n",
    "# (we have different dimention, so I have to use non-vectorized method .apply)\n",
    "mock_imgs = dimentions.apply(lambda x: np.random.randint(0, 256, size=(x[0], x[1], 3),dtype=np.uint8), axis=1)\n",
    "# Normalize data for the model to treat it equally for images with different brightness and contrast\n",
    "normalized = mock_imgs.apply(lambda img: (img - img.mean()) / img.std())\n",
    "# Values are not 0 to 1, as normalization in this case means avoiding the bightness and contrast bias, not standartizing the values from 0 to 1\n",
    "print(normalized)"
   ]
  },
  {
   "cell_type": "code",
   "execution_count": null,
   "id": "7b1c7cc5",
   "metadata": {},
   "outputs": [],
   "source": []
  }
 ],
 "metadata": {
  "kernelspec": {
   "display_name": "data_book",
   "language": "python",
   "name": "python3"
  },
  "language_info": {
   "codemirror_mode": {
    "name": "ipython",
    "version": 3
   },
   "file_extension": ".py",
   "mimetype": "text/x-python",
   "name": "python",
   "nbconvert_exporter": "python",
   "pygments_lexer": "ipython3",
   "version": "3.13.4"
  }
 },
 "nbformat": 4,
 "nbformat_minor": 5
}
